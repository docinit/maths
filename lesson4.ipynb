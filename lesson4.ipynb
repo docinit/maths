{
 "cells": [
  {
   "cell_type": "markdown",
   "metadata": {},
   "source": [
    "3. Задание (в программе или на листочке)\n",
    "На листе тетради «в линейку» (расстояние между линиями равно а) лежит игла (длиной b). Координаты нижней точки иглы (х,у), игла лежит под углом alfa. Пересекает ли игла линию или нет?\n"
   ]
  },
  {
   "cell_type": "code",
   "execution_count": 1,
   "metadata": {},
   "outputs": [],
   "source": [
    "import numpy as np\n",
    "import pandas as pd\n",
    "from matplotlib import pyplot as plt"
   ]
  },
  {
   "cell_type": "code",
   "execution_count": 37,
   "metadata": {},
   "outputs": [
    {
     "name": "stdin",
     "output_type": "stream",
     "text": [
      "Введите расстояние между линиями:  10\n",
      "Укажите длину иглы:  15\n",
      "Укажите угол наклона иглы:  60\n",
      "Укажите координату нижней точки иглы на оси x:  0\n",
      "Укажите координату нижней точки иглы на оси y:  0\n"
     ]
    },
    {
     "data": {
      "image/png": "[encoded data removed]",
      "text/plain": [
       "<Figure size 432x288 with 1 Axes>"
      ]
     },
     "metadata": {
      "needs_background": "light"
     },
     "output_type": "display_data"
    },
    {
     "name": "stdout",
     "output_type": "stream",
     "text": [
      "Игла пересекла верхнюю линию.\n"
     ]
    }
   ],
   "source": [
    "a = int(input('Введите расстояние между линиями: '))\n",
    "b = int(input('Укажите длину иглы: '))\n",
    "angle = int(input('Укажите угол наклона иглы: '))\n",
    "\n",
    "x0 = int(input('Укажите координату нижней точки иглы на оси x: '))%a\n",
    "y0 = int(input('Укажите координату нижней точки иглы на оси y: '))%a\n",
    "\n",
    "y1 = np.sin(np.pi*angle/180) * b + y0\n",
    "x1 = np.cos(np.pi*angle/180) * b + x0\n",
    "x = [x0,x1]\n",
    "y = [y0,y1]\n",
    "xline = [-x1*1.2,x1*1.2]\n",
    "yline = [a,a]\n",
    "plt.plot(x,y)\n",
    "plt.plot(xline,yline)\n",
    "plt.xlim(-x1*1.2,x1*1.2)\n",
    "plt.ylim(0,y1*1.2)\n",
    "plt.show()\n",
    "if y1>a:\n",
    "    print(\"Игла пересекла верхнюю линию.\")\n",
    "else:\n",
    "    print(\"Игла не пересекла верхнюю линию.\")"
   ]
  },
  {
   "cell_type": "code",
   "execution_count": null,
   "metadata": {},
   "outputs": [],
   "source": []
  },
  {
   "cell_type": "code",
   "execution_count": 130,
   "metadata": {},
   "outputs": [
    {
     "data": {
      "image/png": "[encoded data removed]",
      "text/plain": [
       "<Figure size 432x288 with 1 Axes>"
      ]
     },
     "metadata": {
      "needs_background": "light"
     },
     "output_type": "display_data"
    }
   ],
   "source": [
    "x = np.linspace(100,500,5000)\n",
    "a = math.pi/x\n",
    "df = pd.DataFrame(x,a).reset_index().rename(columns={'index':'a',0:'x'})\n",
    "df = df.loc[(df['x']/df['a']>5000 )& (df['x']/df['a']<50000),:]\n",
    "df = df.loc[(df['a']>0.01) & (df['a']<0.02),:]\n",
    "\n",
    "df['sin_a*x']=round(np.sin(df['a']*df['x']),4)\n",
    "\n",
    "plt.plot(df['a'],df['x'])\n",
    "plt.show()"
   ]
  },
  {
   "cell_type": "code",
   "execution_count": 131,
   "metadata": {},
   "outputs": [
    {
     "data": {
      "text/html": [
       "<div>\n",
       "<style scoped>\n",
       "    .dataframe tbody tr th:only-of-type {\n",
       "        vertical-align: middle;\n",
       "    }\n",
       "\n",
       "    .dataframe tbody tr th {\n",
       "        vertical-align: top;\n",
       "    }\n",
       "\n",
       "    .dataframe thead th {\n",
       "        text-align: right;\n",
       "    }\n",
       "</style>\n",
       "<table border=\"1\" class=\"dataframe\">\n",
       "  <thead>\n",
       "    <tr style=\"text-align: right;\">\n",
       "      <th></th>\n",
       "      <th>a</th>\n",
       "      <th>x</th>\n",
       "      <th>sin_a*x</th>\n",
       "    </tr>\n",
       "  </thead>\n",
       "  <tbody>\n",
       "    <tr>\n",
       "      <th>714</th>\n",
       "      <td>0.019993</td>\n",
       "      <td>157.131426</td>\n",
       "      <td>0.0</td>\n",
       "    </tr>\n",
       "    <tr>\n",
       "      <th>715</th>\n",
       "      <td>0.019983</td>\n",
       "      <td>157.211442</td>\n",
       "      <td>0.0</td>\n",
       "    </tr>\n",
       "    <tr>\n",
       "      <th>716</th>\n",
       "      <td>0.019973</td>\n",
       "      <td>157.291458</td>\n",
       "      <td>0.0</td>\n",
       "    </tr>\n",
       "    <tr>\n",
       "      <th>717</th>\n",
       "      <td>0.019963</td>\n",
       "      <td>157.371474</td>\n",
       "      <td>0.0</td>\n",
       "    </tr>\n",
       "    <tr>\n",
       "      <th>718</th>\n",
       "      <td>0.019953</td>\n",
       "      <td>157.451490</td>\n",
       "      <td>0.0</td>\n",
       "    </tr>\n",
       "    <tr>\n",
       "      <th>...</th>\n",
       "      <td>...</td>\n",
       "      <td>...</td>\n",
       "      <td>...</td>\n",
       "    </tr>\n",
       "    <tr>\n",
       "      <th>2672</th>\n",
       "      <td>0.010011</td>\n",
       "      <td>313.802761</td>\n",
       "      <td>0.0</td>\n",
       "    </tr>\n",
       "    <tr>\n",
       "      <th>2673</th>\n",
       "      <td>0.010009</td>\n",
       "      <td>313.882777</td>\n",
       "      <td>0.0</td>\n",
       "    </tr>\n",
       "    <tr>\n",
       "      <th>2674</th>\n",
       "      <td>0.010006</td>\n",
       "      <td>313.962793</td>\n",
       "      <td>0.0</td>\n",
       "    </tr>\n",
       "    <tr>\n",
       "      <th>2675</th>\n",
       "      <td>0.010004</td>\n",
       "      <td>314.042809</td>\n",
       "      <td>0.0</td>\n",
       "    </tr>\n",
       "    <tr>\n",
       "      <th>2676</th>\n",
       "      <td>0.010001</td>\n",
       "      <td>314.122825</td>\n",
       "      <td>-0.0</td>\n",
       "    </tr>\n",
       "  </tbody>\n",
       "</table>\n",
       "<p>1963 rows × 3 columns</p>\n",
       "</div>"
      ],
      "text/plain": [
       "             a           x  sin_a*x\n",
       "714   0.019993  157.131426      0.0\n",
       "715   0.019983  157.211442      0.0\n",
       "716   0.019973  157.291458      0.0\n",
       "717   0.019963  157.371474      0.0\n",
       "718   0.019953  157.451490      0.0\n",
       "...        ...         ...      ...\n",
       "2672  0.010011  313.802761      0.0\n",
       "2673  0.010009  313.882777      0.0\n",
       "2674  0.010006  313.962793      0.0\n",
       "2675  0.010004  314.042809      0.0\n",
       "2676  0.010001  314.122825     -0.0\n",
       "\n",
       "[1963 rows x 3 columns]"
      ]
     },
     "execution_count": 131,
     "metadata": {},
     "output_type": "execute_result"
    }
   ],
   "source": [
    "df"
   ]
  },
  {
   "cell_type": "code",
   "execution_count": 133,
   "metadata": {},
   "outputs": [
    {
     "data": {
      "image/png": "[encoded data removed]",
      "text/plain": [
       "<Figure size 432x288 with 1 Axes>"
      ]
     },
     "metadata": {
      "needs_background": "light"
     },
     "output_type": "display_data"
    }
   ],
   "source": [
    "x = np.linspace(-100,100,10000)\n",
    "y = 0.5*x**2-x-2.5\n",
    "plt.plot(x,y)\n",
    "plt.show()"
   ]
  },
  {
   "cell_type": "code",
   "execution_count": null,
   "metadata": {},
   "outputs": [],
   "source": []
  }
 ],
 "metadata": {
  "kernelspec": {
   "display_name": "Python 3",
   "language": "python",
   "name": "python3"
  },
  "language_info": {
   "codemirror_mode": {
    "name": "ipython",
    "version": 3
   },
   "file_extension": ".py",
   "mimetype": "text/x-python",
   "name": "python",
   "nbconvert_exporter": "python",
   "pygments_lexer": "ipython3",
   "version": "3.7.6"
  }
 },
 "nbformat": 4,
 "nbformat_minor": 4
}
